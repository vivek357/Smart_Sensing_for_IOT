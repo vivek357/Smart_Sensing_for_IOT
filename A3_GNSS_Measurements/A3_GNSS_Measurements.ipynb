{
 "cells": [
  {
   "cell_type": "markdown",
   "metadata": {},
   "source": [
    "# CS6650 : Smart Sensing for Internet of Things\n",
    "#### Homework 3 (Holi 2023 Semester)\n",
    "Submission Deadline : April 23rd, 2023\n",
    "\n",
    "---\n",
    "Name: `Your Name`\n",
    "\n",
    "Roll No: `CSXXM5XX`\n",
    "\n",
    "Email: `CSXXM5XX@smail.iitm.ac.in`\n",
    "\n",
    "---\n",
    "\n",
    "### Android-based GNSS Measurements\n",
    "\n",
    "<div style=\"display:flex; overflow: hidden;\">\n",
    "  <img src=\"./images/image6.png\" width=\"400\" height=\"250\" style=\"margin:20px; object-fit: cover; object-position: top;\">\n",
    "  <div style=\"margin:20px;\"> \n",
    "    <p>GNSS (Global Navigation Satellite System) today includes a variety of satellite constellations, including the GPS (American, global), GLONASS (Russian, global), BeiDou (Chinese, global), Galileo (European, global), NavIC (Indian, regional) and QZSS (Japanese, regional). Depending on your smartphone’s hardware capabilities, you can tap into signals from such constellations and update your location. Google provides an array of open-source <a href=\"https://github.com/google/gps-measurement-tools\">tools</a> for performing GNSS-related measurements on commodity Android smartphones and analyzing such datasets.</p>\n",
    "    <p>\n",
    "    Download and install this app ( <a href=\"https://play.google.com/store/apps/details?id=com.google.android.apps.location.gps.gnsslogger&hl=en_IN&gl=US\">GnssLogger App – Apps on Google Play</a>) to get started. Ensure the location permissions are provided to this app, and you have turned on your phone's location service (e.g., GPS). Turn on the \"location\" switch in the GNSSLogger app, as shown in the figure. Go to the next tab, \"Log\", and check whether you receive the GNSS specific diagnostic messages that include your location coordinates (latitude and longitude fix). <b>Make sure \"Fused location\" and \"Network location\" in the GNSS logger app are turned off before you start logging</b>. You can save the log data to a file and export this to the SD card or share it to your drive/email for offline use. Try playing with this app and make sure you are receiving the logs correctly. Cross-check the location coordinates reported by the app in Google maps.\n",
    "    </p>\n",
    "  </div>\n",
    "</div>\n",
    "\n",
    "---\n",
    "Concentrate on the lines starting with keywords with “Fix” and `Status” (see GNSS Status [API](https://developer.android.com/reference/android/location/GnssStatus)). “Fix” related lines will provide you with the location coordinates of your phone. Only consider lines with “Fix, GPS” (raw GPS) and not “Fix, FLP” (fused location, uses IMU for correction).  <a id='measurements'></a>\n",
    "\n",
    "- **Sample fix line (we are interested only in the red highlighted part)**: Fix, Provider, <span style=\"color:red\">LatitudeDegrees, LongitudeDegrees</span>, AltitudeMeters, SpeedMps, AccuracyMeters, BearingDegrees, UnixTimeMillis, SpeedAccuracyMps, BearingAccuracyDegrees, elapsedRealtimeNanos. \n",
    "\n",
    "    Example: Fix, GPS, <span style=\"color:red\">12.997769, 80.240794</span>, -100.513824, 0.000000, 5.360000, 0.000000, 1616658843000, 0.49396357, 0.0, 1742433115036168\n",
    "\n",
    "- **Sample status line (we are interested only in the red highlighted part)**: Status, UnixTimeMillis, SignalCount, SignalIndex, <span style=\"color:red\">ConstellationType, Svid</span>, CarrierFrequencyHz, <span style=\"color:red\">Cn0DbHz, AzimuthDegrees, ElevationDegrees, UsedInFix</span>, HasAlmanacData, HasEphemerisData, BasebandCn0DbHz \n",
    "Example: Status, 1616658843000, 40, 38, <span style=\"color:red\">6, 1</span>, 1575420032, <span style=\"color:red\">15.00, 355.00, 37.00, 1</span>, 1, 0,\n",
    "\n",
    "- **ConstellationType**: Only use GPS (for now, please ignore data from GLONASS, BeiDou etc., even if your phone supports it). Flag for GPS = 1, (see [this](https://developer.android.com/reference/android/location/GnssStatus#CONSTELLATION_GPS))\n",
    "- **Svid**: Satellite ID\n",
    "- **Cn0DbHz**: Signal Strength or SNR of the signal received from the particular satellite.\n",
    "- **AzimuthDegrees (0 - 360) & Elevation Degrees (0 - 90)**: of the satellite ([Wiki](https://en.wikipedia.org/wiki/Azimuth))\n",
    "- **UsedInFix**: Indicates whether this particular satellite was used for the latest fix for multilateration (remember, you need at least 4 of them?).\n",
    "\n",
    "<div style=\"display:flex; flex-direction: column; align-items: center;\">\n",
    "        <figure style=\"margin: 20px; text-align: center; float: left;\">\n",
    "          <img src=\"./images/image3.png\" width=\"600\" height=\"400\" >\n",
    "          <figcaption>Fig. 1: Azimuth and Elevation</figcaption>\n",
    "        </figure>\n",
    "    </div>"
   ]
  },
  {
   "cell_type": "markdown",
   "metadata": {},
   "source": [
    "\n",
    "### Tasks\n",
    "\n",
    "First, create a directory following the `<Your_Roll>_CS6650H23` structure. Next, download this notebook and save it in the directory you created.\n",
    "\n",
    "\n",
    "<div style=\"display:flex;\">\n",
    "  <img src=\"./images/image2.jpg\" width=\"400\" height=\"200\" style=\"margin:20px;\">\n",
    "  <div style=\"margin:20px;\"> \n",
    "    <p>Collect the <a href=\"#measurements\">above</a> measurement logs at three distinct locations as indicated in the picture left.</p>\n",
    "    <ol>\n",
    "    <li>The smartphone is under the open sky a few meters from the entrance/door of your building.</li>\n",
    "    <li> The smartphone is at the entrance (or some window) of your building, the sky is partially visible, and </li>\n",
    "    <li> The smartphone is completely inside the building, very limited portion of the sky is visible maybe through the door/window.</li>\n",
    "    </ol>\n",
    "    <p>At each of these locations, collect GNSSLogger data for about 5 - 10 minutes (Perform the experiments on a sunny day with a clear sky). Now perform the following tasks.</p>\n",
    "  </div>\n",
    "</div>\n",
    "\n",
    "\n",
    "1. [ ] [Attach sky photos of data collection locations (10 points)](#task1)\n",
    "2. [ ] [Compute and plot location errors using haversine distance (15 points)](#task2)\n",
    "3. [ ] [Analyze status entries before fix and their relation to error (45 points)](#task3)\n",
    "4. [ ] [Show satellite statistics and SNR plots by azimuth and elevation (20 points)](#task4)\n",
    "5. [ ] [Plot SNR by azimuth in angular space with satellite image (10 points)](#task5)\n",
    "\n",
    "---\n",
    "\n",
    "#### Guidelines for the Assignment\n",
    "Before you start working on the assignment, please read the following instructions carefully:\n",
    "\n",
    "\n",
    "- Clean and well-documented code is expected. Your code should be organized in a clear and readable manner, with each task separated into its own section of the notebook.\n",
    "\n",
    "- There will be no separate PDF report required. Instead, provide a detailed but to-the-point discussion in the observation section for each task. The observation section (in Markdown, Refer to [Markdown-Cheatsheet](https://github.com/lifeparticle/Markdown-Cheatsheet)) includes a clear and concise description of the task, the approach used to solve it, assumptions, and inferences.\n",
    "\n",
    "- Any extraneous information that does not address the question should be removed before submission. This will help to ensure that the answer is clear and easy to follow.\n",
    "\n",
    "Failure to follow these practices will result in a penalty.\n",
    "\n",
    "**Deadline: $23^{nd}$, April, 2023**\n",
    "\n",
    "#### Submission Instructions\n",
    "- Compress the top-level directory (ZIP format) containing this notebook with your code and the data used for the assignment. (do not remove the outputs from the notebook cells)\n",
    "\n",
    "- **You MUST refrain from consulting your homework code with others**. Any plagiarism found in your code (or somebody who is referring to your code) will result in zero credits in this assignment.\n",
    "\n",
    "- Submissions after the deadline will not be entertained.\n",
    "\n",
    "\n",
    "<div class=\"alert alert-block alert-success\">\n",
    "    <b>Tip</b>: Our recommendation to the students is to begin the assignment as soon as possible. If you have any doubts, please fill out the <a href=\"https://forms.gle/oMSkBsijAdWFS8rm7\">Google Form</a> with the necessary information and the instructor will address all concerns in the next class.\n",
    "</div>\n"
   ]
  },
  {
   "cell_type": "markdown",
   "metadata": {},
   "source": [
    "### Task 1: Attach sky photos of data collection locations [10 points] <a id='task1'></a>\n",
    "Attach photos of the three locations with the phone, where data is collected, particularly the exposure to the sky.\n"
   ]
  },
  {
   "cell_type": "code",
   "execution_count": null,
   "metadata": {
    "vscode": {
     "languageId": "plaintext"
    }
   },
   "outputs": [],
   "source": []
  },
  {
   "cell_type": "markdown",
   "metadata": {},
   "source": [
    "##### Observations Task 1\n",
    "\n",
    "Edit this section to put your observations."
   ]
  },
  {
   "cell_type": "markdown",
   "metadata": {},
   "source": [
    "### Task 2: Compute and plot location errors using haversine distance [15 points] <a id='task2'></a>\n",
    "Calculate the mean location coordinates for all three locations. Assume those three locations as the `groundtruth`. Compute the error for each location fix sample, which is the distance between the location sample and the groundtruth location. You must use haversine distance ([Wiki](https://en.wikipedia.org/wiki/Haversine_formula)). Plot the CDF (cumulative distribution function) of these errors for the three locations. Comment on the variance of the three distributions.\n"
   ]
  },
  {
   "cell_type": "code",
   "execution_count": null,
   "metadata": {
    "vscode": {
     "languageId": "plaintext"
    }
   },
   "outputs": [],
   "source": []
  },
  {
   "cell_type": "markdown",
   "metadata": {},
   "source": [
    "##### Observations Task 2\n",
    "\n",
    "Edit this section to put your observations."
   ]
  },
  {
   "cell_type": "markdown",
   "metadata": {},
   "source": [
    "### Task 3: Analyze status entries before fix and their relation to error [45 points] <a id='task3'></a>\n",
    "Check the `status` entries prior to receiving a `fix`.\n",
    "1. How many satellites were used for the fix (check the UsedInFix entry for the satellites) for the three locations? (state the median # of satellites)\n",
    "2. How does the distance error for a fix correlate to the number of satellites used for that fix? Show scatter plots for the three locations. Summarize your observations.\n",
    "3. How does the distance error for a fix correlate to the average SNR (Cn0DbHz entry) of the satellites that were used in the fix? Show scatter plots for the three locations. Summarize your observations.\n"
   ]
  },
  {
   "cell_type": "code",
   "execution_count": null,
   "metadata": {
    "vscode": {
     "languageId": "plaintext"
    }
   },
   "outputs": [],
   "source": []
  },
  {
   "cell_type": "markdown",
   "metadata": {},
   "source": [
    "##### Observations Task 3\n",
    "\n",
    "Edit this section to put your observations."
   ]
  },
  {
   "cell_type": "markdown",
   "metadata": {},
   "source": [
    "### Task 4: Show satellite statistics and SNR plots by azimuth and elevation [20 points] <a id='task4'></a>\n",
    "Only consider the `status` instances where a particular satellite was used for a location fix.\n",
    "1. Show a table for the `Svid`, `Average Azimuth`, `Average Elevation`, `Average SNR` (each row for a specific satellite). \n",
    "1. Plot `Average Azimuth` (0 - 360 degrees) with `Average SNR` (see Note)\n",
    "1. Plot `Average Elevation` (0, 90 degrees) with `Average SNR`\n",
    "\n"
   ]
  },
  {
   "cell_type": "markdown",
   "metadata": {},
   "source": [
    "<div class=\"alert alert-block alert-info\">\n",
    "    <div style=\"display:flex; margin:20px;\">\n",
    "        <img src=\"./images/image1.jpg\" width=\"300\" height=\"200\" >\n",
    "        <div style=\"margin:20px;\"> \n",
    "            <h2> How to calculate the azimuth corresponding to the direction of the window or door?</h2>\n",
    "            <p>Take the two points (Lat1, Lon1) and (Lat2, Lon2) and use <a href=\"https://www.fcc.gov/media/radio/distance-and-azimuths\">this website</a>, or any other online azimuth calculator. Basically, the azimuth gives you the angle the black line makes with 0 degrees north.\n",
    "            </p>\n",
    "        </div>\n",
    "    </div>\n",
    "</div>"
   ]
  },
  {
   "cell_type": "code",
   "execution_count": null,
   "metadata": {
    "vscode": {
     "languageId": "plaintext"
    }
   },
   "outputs": [],
   "source": []
  },
  {
   "cell_type": "markdown",
   "metadata": {},
   "source": [
    "##### Observations Task 4\n",
    "\n",
    "Edit this section to put your observations."
   ]
  },
  {
   "cell_type": "markdown",
   "metadata": {},
   "source": [
    "### Task 5: Plot SNR by azimuth in angular space with satellite image [10 points] <a id='task5'></a>\n",
    "\n",
    "<!-- <div style=\"display: flex; justify-content: center;\">\n",
    "        <img src=\"./images/image4.jpg\" width=\"300\" height=\"300\">\n",
    "        <img src=\"./images/image5.png\" width=\"400\" height=\"300\">\n",
    "    <p style=\"float: right; margin-left: 10px;\">\n",
    "        See the figures to the left. Two example plots are also shown on the right for your reference. Either you can plot in the cartesian space or in the angular (R, theta) space. Magnitude of R can signify your SNR. To make it more interesting, you can superimpose the angular plot on a satellite image, say from Google maps (of course, you need to rotate the image to align the azimuths). This should show the effect of buildings, trees, obstacles on the SNR. Does your plot (particularly, for location 2, where the phone is kept on the window sill or door) peak for a certain azimuth? This azimuth should roughly match with the direction of the clear sky from that location.\n",
    "    </p>\n",
    "</div> -->\n",
    "\n",
    "<div style=\"display: block; justify-content: center; align-items: center; margin: 20px\">\n",
    "  <div style=\"display: flex; justify-content: center; align-items: center;\">\n",
    "    <img src=\"./images/image4.jpg\" width=\"300\" height=\"300\">\n",
    "    <img src=\"./images/image5.png\" width=\"400\" height=\"300\">\n",
    "  </div>\n",
    "  <p style=\"margin-left: 10px;\">See the figures above. Two example plots are also shown on the right for your reference. Either you can plot in the cartesian space or in the angular (R, theta) space. Magnitude of R can signify your SNR. To make it more interesting, you can superimpose the angular plot on a satellite image, say from Google maps (of course, you need to rotate the image to align the azimuths). This should show the effect of buildings, trees, obstacles on the SNR. Does your plot (particularly, for location 2, where the phone is kept on the window sill or door) peak for a certain azimuth? This azimuth should roughly match with the direction of the clear sky from that location.</p>\n",
    "</div>"
   ]
  },
  {
   "cell_type": "code",
   "execution_count": null,
   "metadata": {
    "vscode": {
     "languageId": "plaintext"
    }
   },
   "outputs": [],
   "source": []
  },
  {
   "cell_type": "markdown",
   "metadata": {},
   "source": [
    "##### Observations Task 5\n",
    "\n",
    "Edit this section to put your observations."
   ]
  }
 ],
 "metadata": {
  "kernelspec": {
   "display_name": "Python 3 (ipykernel)",
   "language": "python",
   "name": "python3"
  },
  "language_info": {
   "codemirror_mode": {
    "name": "ipython",
    "version": 3
   },
   "file_extension": ".py",
   "mimetype": "text/x-python",
   "name": "python",
   "nbconvert_exporter": "python",
   "pygments_lexer": "ipython3",
   "version": "3.9.7"
  }
 },
 "nbformat": 4,
 "nbformat_minor": 2
}
